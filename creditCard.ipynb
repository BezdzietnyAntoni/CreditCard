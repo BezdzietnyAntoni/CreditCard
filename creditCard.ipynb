{
 "cells": [
  {
   "attachments": {},
   "cell_type": "markdown",
   "metadata": {},
   "source": [
    "# Credit Card Fraud Detection\n",
    "---\n",
    "\n",
    "- **Baza danych:**\n",
    "\n",
    "Source: https://datahub.io/machine-learning/creditcard\n",
    "\n",
    "Baza zawiera ... rekordów z 30 cechami + pole klasy. Pola V1 ... V28 są pewnymi cechami transakcji, transformowanymi metodą PCA. Baza zawiera 284807 rekordów dla których transakcja była prawidłowo autoryzowana oraz 492 rekordy oznaczonych jako oszustwo. \n",
    "\n",
    "\n",
    "- **Cel:**\n",
    "\n",
    "Na podstawie danych zawartych w bazie wykrycie prób oszustwa.  "
   ]
  },
  {
   "cell_type": "code",
   "execution_count": 2,
   "metadata": {},
   "outputs": [],
   "source": [
    "import datapackage\n",
    "import pandas as pd\n",
    "import numpy as np\n",
    "import tensorflow as tf\n",
    "import seaborn as sns\n",
    "import matplotlib.pyplot as plt\n",
    "from sklearn.model_selection import train_test_split\n",
    "from sklearn.preprocessing import Normalizer\n",
    "\n",
    "from sklearn.metrics import accuracy_score, precision_score, recall_score\n",
    "from sklearn.model_selection import train_test_split\n",
    "from tensorflow.keras import layers, losses\n",
    "from tensorflow.keras.models import Model"
   ]
  },
  {
   "attachments": {},
   "cell_type": "markdown",
   "metadata": {},
   "source": [
    "## Wczytanie i wstępne przetworzenie danych\n",
    "\n",
    "\n",
    "\n",
    "- Usunięto powielone dane\n",
    "- Z danych usunięto cechy `Amount` oraz `Time`\n",
    "- Dane podzielono na zbiór uczący oraz testowy\n",
    "- Podzbiory rozdzielono na te zawierające *anomalie* oraz *poprawne transakcje* (ze względu na to iż autoenkoder uczony oraz walidowany jest tylko na zbiorach zawierających *poprawne transakcje*, wszystkie *oszustwa* dodano do zbioru testowego)\n",
    "\n",
    "*Więcej w sekcji poniżej*"
   ]
  },
  {
   "cell_type": "code",
   "execution_count": 3,
   "metadata": {},
   "outputs": [],
   "source": [
    "data_url = 'https://datahub.io/machine-learning/creditcard/datapackage.json'\n",
    "\n",
    "# to load Data Package into storage\n",
    "package = datapackage.Package(data_url)\n",
    "\n",
    "# to load only tabular data\n",
    "resources = package.resources\n",
    "for resource in resources:\n",
    "    if resource.tabular:\n",
    "        data_pd = pd.read_csv(resource.descriptor['path'])\n",
    "\n",
    "data = data_pd.to_numpy()"
   ]
  },
  {
   "cell_type": "code",
   "execution_count": 4,
   "metadata": {},
   "outputs": [],
   "source": [
    "# Remove duplicated data\n",
    "duplicated = data_pd.duplicated().to_numpy()\n",
    "data = data[~duplicated]"
   ]
  },
  {
   "cell_type": "code",
   "execution_count": 5,
   "metadata": {},
   "outputs": [
    {
     "name": "stdout",
     "output_type": "stream",
     "text": [
      "Fraud transaction amount:\n",
      "AVG: : 123.87186046511626\n",
      "VAR: : 67566.63602064028\n",
      "Neutral transaction amount:\n",
      "AVG: : 88.41357475466688\n",
      "VAR: : 62689.43379439356\n"
     ]
    }
   ],
   "source": [
    "idx_fraud   = np.where(data[:,-1] == \"'1'\")\n",
    "idx_neutral = np.where(data[:,-1] == \"'0'\")\n",
    "\n",
    "print(\"Fraud transaction amount:\")\n",
    "print(\"AVG: :\", np.average(data[idx_fraud,-2]))\n",
    "print(\"VAR: :\",np.var(data[idx_fraud,-2]))\n",
    "\n",
    "print(\"Neutral transaction amount:\")\n",
    "print(\"AVG: :\",np.average(data[idx_neutral,-2]))\n",
    "print(\"VAR: :\",np.var(data[idx_neutral,-2]))"
   ]
  },
  {
   "cell_type": "code",
   "execution_count": 6,
   "metadata": {},
   "outputs": [],
   "source": [
    "# Data preprocessing\n",
    "\n",
    "# 1 - correct transaction, 0 - fraud\n",
    "labels = np.zeros(data.shape[0], dtype=np.uint8)\n",
    "labels[np.where(data[:,-1] == \"'0'\")[0]] = 1\n",
    "\n",
    "# Remove time and amount \n",
    "data = data[:, 1:-2]"
   ]
  },
  {
   "cell_type": "code",
   "execution_count": 7,
   "metadata": {},
   "outputs": [],
   "source": [
    "# Split data for training and test\n",
    "train_data, test_data, train_labels, test_labels = train_test_split(\n",
    "    data, labels, test_size=0.2)\n",
    "\n",
    "# Normalize data\n",
    "scn = Normalizer().fit(train_data)\n",
    "train_data = scn.transform(train_data)\n",
    "test_data  = scn.transform(test_data)\n",
    "data = scn.transform(data)"
   ]
  },
  {
   "cell_type": "code",
   "execution_count": 8,
   "metadata": {},
   "outputs": [],
   "source": [
    "# Split training data for normal and anomalous\n",
    "train_labels = train_labels.astype(bool)\n",
    "test_labels = test_labels.astype(bool)\n",
    "\n",
    "normal_train_data = train_data[train_labels]\n",
    "normal_test_data = test_data[test_labels]\n",
    "\n",
    "# For training use only normal transaction so anomalous from train can be added to test set\n",
    "#anomalous_train_data = train_data[~train_labels]\n",
    "#anomalous_test_data  = test_data[~test_labels]\n",
    "anomalous_test_data = np.concatenate((test_data[~test_labels], train_data[~train_labels]))"
   ]
  },
  {
   "attachments": {},
   "cell_type": "markdown",
   "metadata": {},
   "source": [
    "## Model sieci / uczenie\n",
    "\n",
    "Ze względu na dużą dysproporcje w danych (stosunek *autoryzowanych transakcji* do *transakcji oznaczonych jako oszustwo*) zaproponowano model sieci oparty na działaniu autoenkodera w trybie wykrywania anomalii. \n",
    "\n",
    "Gdzie:\n",
    "- Poprawnej transakcji przypisano wartość `1`\n",
    "- Próbie oszustwa przypisano wartość `0`\n",
    "\n",
    "Autoenkoder uczony jest tylko i wyłącznie poprawnymi transakcjami tak by błąd rekonstrukcji, w poprawnych transakcjach był jak najmniejszy.\n",
    "\n",
    "Poniżej przedstawiono model który dostarczał najlepszych wyników.\n",
    "\n",
    "*W sekcji końcowej przedstawiono testowane modele*"
   ]
  },
  {
   "cell_type": "code",
   "execution_count": 150,
   "metadata": {},
   "outputs": [],
   "source": [
    "class AnomalyDetector(Model):\n",
    "  def __init__(self):\n",
    "    super(AnomalyDetector, self).__init__()\n",
    "    self.encoder = tf.keras.Sequential([\n",
    "        layers.Conv1D(20, 3, activation=\"relu\", input_shape = (28,1)),\n",
    "        layers.Dropout(0.2),\n",
    "        layers.Conv1D(10, 3, activation=\"relu\"),\n",
    "        layers.Dropout(0.3),\n",
    "        layers.Conv1D(6, 3, activation=\"relu\"),\n",
    "        layers.Dropout(0.2)\n",
    "        ])\n",
    "\n",
    "    self.decoder = tf.keras.Sequential([\n",
    "      layers.Conv1DTranspose(10, 5, activation=\"relu\"),\n",
    "      layers.Dropout(0.3),\n",
    "      layers.Conv1DTranspose(20, 5, activation=\"relu\"),\n",
    "      layers.Dropout(0.2),\n",
    "      layers.Conv1D(1, 3, activation=\"sigmoid\"),\n",
    "      layers.Flatten()\n",
    "      ])\n",
    "\n",
    "  def call(self, x):\n",
    "    encoded = self.encoder(x)\n",
    "    decoded = self.decoder(encoded)\n",
    "    return decoded\n",
    "\n",
    "autoencoder = AnomalyDetector()"
   ]
  },
  {
   "cell_type": "code",
   "execution_count": 141,
   "metadata": {},
   "outputs": [],
   "source": [
    "class AnomalyDetector(Model):\n",
    "  def __init__(self):\n",
    "    super(AnomalyDetector, self).__init__()\n",
    "    self.encoder = tf.keras.Sequential([\n",
    "        layers.Conv1D(20, 3, activation=\"relu\", input_shape = (28,1)),\n",
    "        layers.Dropout(0.2),\n",
    "        layers.Conv1D(10, 3, activation=\"relu\"),\n",
    "        layers.Dropout(0.3),\n",
    "        layers.Conv1D(6, 3, activation=\"relu\"),\n",
    "        layers.Dropout(0.2)\n",
    "        ])\n",
    "\n",
    "    self.decoder = tf.keras.Sequential([\n",
    "      layers.Conv1DTranspose(6, 3, activation=\"relu\"),\n",
    "      layers.Dropout(0.3),\n",
    "      layers.Conv1DTranspose(10, 3, activation=\"relu\"),\n",
    "      layers.Dropout(0.2),\n",
    "      layers.Conv1DTranspose(1, 3, activation=\"sigmoid\"),\n",
    "      layers.Flatten()\n",
    "      ])\n",
    "\n",
    "  def call(self, x):\n",
    "    encoded = self.encoder(x)\n",
    "    decoded = self.decoder(encoded)\n",
    "    return decoded\n",
    "\n",
    "autoencoder = AnomalyDetector()"
   ]
  },
  {
   "cell_type": "code",
   "execution_count": 151,
   "metadata": {},
   "outputs": [],
   "source": [
    "autoencoder.compile(optimizer='adam', loss='mae')"
   ]
  },
  {
   "cell_type": "code",
   "execution_count": 152,
   "metadata": {},
   "outputs": [
    {
     "name": "stdout",
     "output_type": "stream",
     "text": [
      "Epoch 1/80\n",
      "886/886 [==============================] - 12s 12ms/step - loss: 0.1576 - val_loss: 0.1339\n",
      "Epoch 2/80\n",
      "886/886 [==============================] - 10s 11ms/step - loss: 0.1137 - val_loss: 0.0885\n",
      "Epoch 3/80\n",
      "886/886 [==============================] - 10s 11ms/step - loss: 0.0954 - val_loss: 0.0847\n",
      "Epoch 4/80\n",
      "886/886 [==============================] - 10s 11ms/step - loss: 0.0919 - val_loss: 0.0833\n",
      "Epoch 5/80\n",
      "886/886 [==============================] - 10s 11ms/step - loss: 0.0897 - val_loss: 0.0815\n",
      "Epoch 6/80\n",
      "886/886 [==============================] - 10s 11ms/step - loss: 0.0883 - val_loss: 0.0809\n",
      "Epoch 7/80\n",
      "886/886 [==============================] - 10s 12ms/step - loss: 0.0873 - val_loss: 0.0806\n",
      "Epoch 8/80\n",
      "886/886 [==============================] - 10s 11ms/step - loss: 0.0866 - val_loss: 0.0805\n",
      "Epoch 9/80\n",
      "886/886 [==============================] - 10s 12ms/step - loss: 0.0861 - val_loss: 0.0804\n",
      "Epoch 10/80\n",
      "886/886 [==============================] - 10s 11ms/step - loss: 0.0858 - val_loss: 0.0800\n",
      "Epoch 11/80\n",
      "886/886 [==============================] - 10s 11ms/step - loss: 0.0856 - val_loss: 0.0812\n",
      "Epoch 12/80\n",
      "886/886 [==============================] - 10s 11ms/step - loss: 0.0853 - val_loss: 0.0805\n",
      "Epoch 13/80\n",
      "886/886 [==============================] - 10s 11ms/step - loss: 0.0851 - val_loss: 0.0804\n",
      "Epoch 14/80\n",
      "886/886 [==============================] - 11s 12ms/step - loss: 0.0850 - val_loss: 0.0811\n",
      "Epoch 15/80\n",
      "886/886 [==============================] - 10s 11ms/step - loss: 0.0848 - val_loss: 0.0807\n",
      "Epoch 16/80\n",
      "886/886 [==============================] - 10s 11ms/step - loss: 0.0847 - val_loss: 0.0801\n",
      "Epoch 17/80\n",
      "886/886 [==============================] - 10s 11ms/step - loss: 0.0847 - val_loss: 0.0804\n",
      "Epoch 18/80\n",
      "886/886 [==============================] - 10s 11ms/step - loss: 0.0846 - val_loss: 0.0810\n",
      "Epoch 19/80\n",
      "886/886 [==============================] - 10s 11ms/step - loss: 0.0846 - val_loss: 0.0804\n",
      "Epoch 20/80\n",
      "886/886 [==============================] - 10s 11ms/step - loss: 0.0845 - val_loss: 0.0808\n",
      "Epoch 21/80\n",
      "886/886 [==============================] - 10s 12ms/step - loss: 0.0844 - val_loss: 0.0800\n",
      "Epoch 22/80\n",
      "886/886 [==============================] - 10s 11ms/step - loss: 0.0844 - val_loss: 0.0806\n",
      "Epoch 23/80\n",
      "886/886 [==============================] - 10s 11ms/step - loss: 0.0844 - val_loss: 0.0803\n",
      "Epoch 24/80\n",
      "886/886 [==============================] - 10s 11ms/step - loss: 0.0843 - val_loss: 0.0797\n",
      "Epoch 25/80\n",
      "886/886 [==============================] - 10s 11ms/step - loss: 0.0843 - val_loss: 0.0806\n",
      "Epoch 26/80\n",
      "886/886 [==============================] - 10s 11ms/step - loss: 0.0844 - val_loss: 0.0806\n",
      "Epoch 27/80\n",
      "886/886 [==============================] - 10s 11ms/step - loss: 0.0843 - val_loss: 0.0803\n",
      "Epoch 28/80\n",
      "886/886 [==============================] - 10s 11ms/step - loss: 0.0843 - val_loss: 0.0807\n",
      "Epoch 29/80\n",
      "886/886 [==============================] - 10s 11ms/step - loss: 0.0843 - val_loss: 0.0799\n",
      "Epoch 30/80\n",
      "886/886 [==============================] - 10s 11ms/step - loss: 0.0842 - val_loss: 0.0801\n",
      "Epoch 31/80\n",
      "886/886 [==============================] - 10s 11ms/step - loss: 0.0843 - val_loss: 0.0802\n",
      "Epoch 32/80\n",
      "886/886 [==============================] - 10s 11ms/step - loss: 0.0843 - val_loss: 0.0806\n",
      "Epoch 33/80\n",
      "886/886 [==============================] - 10s 11ms/step - loss: 0.0843 - val_loss: 0.0804\n",
      "Epoch 34/80\n",
      "886/886 [==============================] - 10s 11ms/step - loss: 0.0842 - val_loss: 0.0804\n",
      "Epoch 35/80\n",
      "886/886 [==============================] - 10s 11ms/step - loss: 0.0842 - val_loss: 0.0800\n",
      "Epoch 36/80\n",
      "886/886 [==============================] - 10s 11ms/step - loss: 0.0842 - val_loss: 0.0811\n",
      "Epoch 37/80\n",
      "886/886 [==============================] - 10s 12ms/step - loss: 0.0842 - val_loss: 0.0806\n",
      "Epoch 38/80\n",
      "886/886 [==============================] - 10s 12ms/step - loss: 0.0842 - val_loss: 0.0810\n",
      "Epoch 39/80\n",
      "886/886 [==============================] - 10s 11ms/step - loss: 0.0841 - val_loss: 0.0806\n",
      "Epoch 40/80\n",
      "886/886 [==============================] - 10s 11ms/step - loss: 0.0841 - val_loss: 0.0800\n",
      "Epoch 41/80\n",
      "886/886 [==============================] - 10s 12ms/step - loss: 0.0842 - val_loss: 0.0807\n",
      "Epoch 42/80\n",
      "886/886 [==============================] - 10s 12ms/step - loss: 0.0842 - val_loss: 0.0806\n",
      "Epoch 43/80\n",
      "886/886 [==============================] - 10s 11ms/step - loss: 0.0842 - val_loss: 0.0807\n",
      "Epoch 44/80\n",
      "886/886 [==============================] - 10s 12ms/step - loss: 0.0842 - val_loss: 0.0805\n",
      "Epoch 45/80\n",
      "886/886 [==============================] - 10s 11ms/step - loss: 0.0841 - val_loss: 0.0810\n",
      "Epoch 46/80\n",
      "886/886 [==============================] - 10s 11ms/step - loss: 0.0841 - val_loss: 0.0808\n",
      "Epoch 47/80\n",
      "886/886 [==============================] - 10s 11ms/step - loss: 0.0841 - val_loss: 0.0808\n",
      "Epoch 48/80\n",
      "886/886 [==============================] - 10s 11ms/step - loss: 0.0841 - val_loss: 0.0807\n",
      "Epoch 49/80\n",
      "886/886 [==============================] - 10s 11ms/step - loss: 0.0841 - val_loss: 0.0806\n",
      "Epoch 50/80\n",
      "886/886 [==============================] - 10s 11ms/step - loss: 0.0841 - val_loss: 0.0808\n",
      "Epoch 51/80\n",
      "886/886 [==============================] - 10s 11ms/step - loss: 0.0841 - val_loss: 0.0805\n",
      "Epoch 52/80\n",
      "886/886 [==============================] - 10s 11ms/step - loss: 0.0841 - val_loss: 0.0812\n",
      "Epoch 53/80\n",
      "886/886 [==============================] - 10s 11ms/step - loss: 0.0842 - val_loss: 0.0814\n",
      "Epoch 54/80\n",
      "886/886 [==============================] - 10s 11ms/step - loss: 0.0841 - val_loss: 0.0802\n",
      "Epoch 55/80\n",
      "886/886 [==============================] - 10s 12ms/step - loss: 0.0841 - val_loss: 0.0805\n",
      "Epoch 56/80\n",
      "886/886 [==============================] - 10s 11ms/step - loss: 0.0841 - val_loss: 0.0809\n",
      "Epoch 57/80\n",
      "886/886 [==============================] - 10s 12ms/step - loss: 0.0841 - val_loss: 0.0800\n",
      "Epoch 58/80\n",
      "886/886 [==============================] - 10s 12ms/step - loss: 0.0842 - val_loss: 0.0800\n",
      "Epoch 59/80\n",
      "886/886 [==============================] - 10s 11ms/step - loss: 0.0841 - val_loss: 0.0808\n",
      "Epoch 60/80\n",
      "886/886 [==============================] - 10s 11ms/step - loss: 0.0842 - val_loss: 0.0808\n",
      "Epoch 61/80\n",
      "886/886 [==============================] - 10s 11ms/step - loss: 0.0842 - val_loss: 0.0819\n",
      "Epoch 62/80\n",
      "886/886 [==============================] - 10s 12ms/step - loss: 0.0842 - val_loss: 0.0809\n",
      "Epoch 63/80\n",
      "886/886 [==============================] - 10s 11ms/step - loss: 0.0841 - val_loss: 0.0812\n",
      "Epoch 64/80\n",
      "886/886 [==============================] - 10s 12ms/step - loss: 0.0840 - val_loss: 0.0814\n",
      "Epoch 65/80\n",
      "886/886 [==============================] - 10s 11ms/step - loss: 0.0841 - val_loss: 0.0816\n",
      "Epoch 66/80\n",
      "886/886 [==============================] - 10s 11ms/step - loss: 0.0842 - val_loss: 0.0814\n",
      "Epoch 67/80\n",
      "886/886 [==============================] - 10s 11ms/step - loss: 0.0843 - val_loss: 0.0807\n",
      "Epoch 68/80\n",
      "886/886 [==============================] - 10s 11ms/step - loss: 0.0842 - val_loss: 0.0807\n",
      "Epoch 69/80\n",
      "886/886 [==============================] - 10s 11ms/step - loss: 0.0841 - val_loss: 0.0805\n",
      "Epoch 70/80\n",
      "886/886 [==============================] - 10s 11ms/step - loss: 0.0842 - val_loss: 0.0812\n",
      "Epoch 71/80\n",
      "886/886 [==============================] - 10s 12ms/step - loss: 0.0841 - val_loss: 0.0810\n",
      "Epoch 72/80\n",
      "886/886 [==============================] - 10s 11ms/step - loss: 0.0841 - val_loss: 0.0807\n",
      "Epoch 73/80\n",
      "886/886 [==============================] - 10s 11ms/step - loss: 0.0841 - val_loss: 0.0808\n",
      "Epoch 74/80\n",
      "886/886 [==============================] - 10s 11ms/step - loss: 0.0841 - val_loss: 0.0806\n",
      "Epoch 75/80\n",
      "886/886 [==============================] - 10s 11ms/step - loss: 0.0842 - val_loss: 0.0808\n",
      "Epoch 76/80\n",
      "886/886 [==============================] - 10s 11ms/step - loss: 0.0844 - val_loss: 0.0809\n",
      "Epoch 77/80\n",
      "886/886 [==============================] - 10s 11ms/step - loss: 0.0841 - val_loss: 0.0798\n",
      "Epoch 78/80\n",
      "886/886 [==============================] - 10s 11ms/step - loss: 0.0842 - val_loss: 0.0806\n",
      "Epoch 79/80\n",
      "886/886 [==============================] - 10s 11ms/step - loss: 0.0842 - val_loss: 0.0807\n",
      "Epoch 80/80\n",
      "886/886 [==============================] - 10s 11ms/step - loss: 0.0841 - val_loss: 0.0805\n"
     ]
    }
   ],
   "source": [
    "history = autoencoder.fit(normal_train_data, normal_train_data, \n",
    "          epochs=80, \n",
    "          batch_size=256,\n",
    "          validation_data=(normal_test_data, normal_test_data),\n",
    "          shuffle=True)"
   ]
  },
  {
   "attachments": {},
   "cell_type": "markdown",
   "metadata": {},
   "source": [
    "### Krzywe uczenia"
   ]
  },
  {
   "cell_type": "code",
   "execution_count": 153,
   "metadata": {},
   "outputs": [
    {
     "data": {
      "image/png": "[encoded data removed]",
      "text/plain": [
       "<Figure size 640x480 with 1 Axes>"
      ]
     },
     "metadata": {},
     "output_type": "display_data"
    }
   ],
   "source": [
    "plt.plot(history.history[\"loss\"], label=\"Training Loss\")\n",
    "plt.plot(history.history[\"val_loss\"], label=\"Validation Loss\")\n",
    "plt.legend()\n",
    "plt.show()"
   ]
  },
  {
   "attachments": {},
   "cell_type": "markdown",
   "metadata": {},
   "source": [
    "## Uzyskane wyniki\n",
    "\n",
    "Poniżej przedstawiono uzyskane wyniki. \n",
    "\n",
    "Histogramy funkcji straty (błędu rekonstrukcji) dla *poprawnych* przypadków użycia karty oraz dla prób *oszustwa*. **Im mniejszy obszar wspólny tym lepiej**\n",
    "\n",
    "Krzywe FAR i FRR pozwalające ręcznie wyznaczyć próg akceptacji błędu rekonstrukcji. **Im mniejszy próg tym system bardziej restrykcyjny**\n",
    "\n",
    "ROC wykres przedstawiający zależność między FAR a FRR dla różnych progów klasyfikacji. Area Under the Curve (AUC) pole pod krzywą. **Im większa jest AUC, tym lepszy jest klasyfikator**"
   ]
  },
  {
   "cell_type": "code",
   "execution_count": 154,
   "metadata": {},
   "outputs": [
    {
     "name": "stdout",
     "output_type": "stream",
     "text": [
      "1771/1771 [==============================] - 5s 2ms/step\n",
      "15/15 [==============================] - 0s 2ms/step\n"
     ]
    },
    {
     "data": {
      "image/png": "[encoded data removed]",
      "text/plain": [
       "<Figure size 800x400 with 2 Axes>"
      ]
     },
     "metadata": {},
     "output_type": "display_data"
    }
   ],
   "source": [
    "# Reconstructions for training normal data\n",
    "reconstructions = autoencoder.predict(normal_test_data)\n",
    "normal_train_loss = tf.keras.losses.mae(reconstructions, normal_test_data)\n",
    "\n",
    "# Reconstructions for test anomalous\n",
    "reconstructions = autoencoder.predict(anomalous_test_data)\n",
    "anomalous_test_loss = tf.keras.losses.mae(reconstructions, anomalous_test_data)\n",
    "\n",
    "bins = np.linspace(\n",
    "    np.min((np.min(normal_train_loss), np.min(anomalous_test_loss))), \n",
    "    np.max((np.max(normal_train_loss), np.max(anomalous_test_loss))),\n",
    "    50)\n",
    "\n",
    "fig = plt.figure()\n",
    "fig.set_size_inches(8,4)\n",
    "\n",
    "plt.subplot(1,2,1)\n",
    "plt.hist(normal_train_loss[None,:],   bins=bins, label='normal_train')\n",
    "plt.xlabel(\"Normal loss\")\n",
    "plt.ylabel(\"No of examples\")\n",
    "\n",
    "plt.subplot(1,2,2)\n",
    "plt.hist(anomalous_test_loss[None,:], bins=bins, label='anomalous_test')\n",
    "plt.xlabel(\"Fraud loss\")\n",
    "plt.ylabel(\"No of examples\")\n",
    "plt.show()"
   ]
  },
  {
   "attachments": {},
   "cell_type": "markdown",
   "metadata": {},
   "source": [
    "#### Statystyki FAR i FRR"
   ]
  },
  {
   "cell_type": "code",
   "execution_count": 155,
   "metadata": {},
   "outputs": [],
   "source": [
    "def get_statistics(loss, labels, threshold):\n",
    "    classified = np.array(loss < threshold, dtype = np.uint8)\n",
    "    diff_arg = np.where(classified != labels)[0]\n",
    "    frr = np.count_nonzero(classified[diff_arg] == 0) / np.count_nonzero(labels == 1)\n",
    "    far = np.count_nonzero(classified[diff_arg] == 1) / np.count_nonzero(labels == 0)\n",
    "    return far, frr"
   ]
  },
  {
   "cell_type": "code",
   "execution_count": 156,
   "metadata": {},
   "outputs": [
    {
     "name": "stdout",
     "output_type": "stream",
     "text": [
      "8867/8867 [==============================] - 26s 3ms/step\n"
     ]
    },
    {
     "data": {
      "image/png": "[encoded data removed]",
      "text/plain": [
       "<Figure size 640x480 with 1 Axes>"
      ]
     },
     "metadata": {},
     "output_type": "display_data"
    }
   ],
   "source": [
    "# Reconstruction for all data\n",
    "reconstructions = autoencoder.predict(data)\n",
    "loss = tf.keras.losses.mae(reconstructions, data)\n",
    "\n",
    "# Minimal and maximal value of threshold\n",
    "threshold_min = np.min(reconstructions) \n",
    "threshold_max = np.max(reconstructions)\n",
    "threshold_max = 0.2\n",
    "\n",
    "threshold_range = np.linspace(threshold_min, threshold_max, 50)\n",
    "\n",
    "# Set FAR and FRR\n",
    "far = np.zeros(threshold_range.shape)\n",
    "frr = np.zeros(threshold_range.shape)\n",
    "for i in range(threshold_range.shape[0]):\n",
    "    far[i], frr[i] = get_statistics(loss, labels, threshold_range[i])\n",
    "\n",
    "plt.title('FAR / FRR plot')\n",
    "plt.plot(threshold_range, far, label='FAR')\n",
    "plt.plot(threshold_range, frr, label='FRR')\n",
    "plt.ylabel('FA/FR ratio')\n",
    "plt.xlabel(\"Threshold\")\n",
    "plt.legend()\n",
    "plt.show()"
   ]
  },
  {
   "attachments": {},
   "cell_type": "markdown",
   "metadata": {},
   "source": [
    "###  Krzywa ROC oraz DET"
   ]
  },
  {
   "cell_type": "code",
   "execution_count": 157,
   "metadata": {},
   "outputs": [
    {
     "data": {
      "image/png": "[encoded data removed]",
      "text/plain": [
       "<Figure size 640x480 with 1 Axes>"
      ]
     },
     "metadata": {},
     "output_type": "display_data"
    }
   ],
   "source": [
    "from sklearn.metrics import DetCurveDisplay, RocCurveDisplay\n",
    "\n",
    "RocCurveDisplay.from_predictions(labels, loss, pos_label=0, name=\"ROC curve\")\n",
    "plt.show()"
   ]
  },
  {
   "cell_type": "code",
   "execution_count": 158,
   "metadata": {},
   "outputs": [
    {
     "name": "stdout",
     "output_type": "stream",
     "text": [
      "Threshold:  0.09956049195450627\n"
     ]
    }
   ],
   "source": [
    "# Automatic set threshold \n",
    "hreshold = np.mean(normal_train_loss) + np.std(normal_train_loss)\n",
    "print(\"Threshold: \", threshold)"
   ]
  },
  {
   "cell_type": "code",
   "execution_count": 159,
   "metadata": {},
   "outputs": [],
   "source": [
    "def predict(model, data, threshold):\n",
    "  reconstructions = model(data)\n",
    "  loss = tf.keras.losses.mae(reconstructions, data)\n",
    "  return tf.math.less(loss, threshold)\n",
    "\n",
    "def print_stats(predictions, labels):\n",
    "  print(\"Accuracy = {}\".format(accuracy_score(labels, predictions)))\n",
    "  print(\"Precision = {}\".format(precision_score(labels, predictions)))\n",
    "  print(\"Recall = {}\".format(recall_score(labels, predictions)))\n"
   ]
  },
  {
   "cell_type": "code",
   "execution_count": 160,
   "metadata": {},
   "outputs": [
    {
     "name": "stdout",
     "output_type": "stream",
     "text": [
      "Accuracy = 0.899481901808057\n",
      "Precision = 0.999470629754529\n",
      "Recall = 0.8997952483496311\n"
     ]
    }
   ],
   "source": [
    "preds = predict(autoencoder, test_data, threshold)\n",
    "print_stats(preds, test_labels)"
   ]
  },
  {
   "attachments": {},
   "cell_type": "markdown",
   "metadata": {},
   "source": [
    "## Wnioski\n",
    "\n",
    "Najlepsze wyniki uzyskano dla  sieci splotowych. W zależności od zadanego progu można dopasować model do zastosowań. Modyfikacje wartości progowej (wartości błędu rekonstrukcji) wpływa na restrykcyjność systemu. Bez losowego zaburzania części waga, sieć często zatrzymywała się w lokalnym minimum. "
   ]
  },
  {
   "attachments": {},
   "cell_type": "markdown",
   "metadata": {},
   "source": [
    "## Inne testowane modele"
   ]
  },
  {
   "cell_type": "code",
   "execution_count": null,
   "metadata": {},
   "outputs": [],
   "source": [
    "# Model 1 : Warstwy gęste\n",
    "class AnomalyDetector(Model):\n",
    "  def __init__(self):\n",
    "    super(AnomalyDetector, self).__init__()\n",
    "    self.encoder = tf.keras.Sequential([\n",
    "      layers.Dense(18, activation=\"relu\", input_shape = (28,)),\n",
    "      layers.Dense(10, activation=\"relu\"),\n",
    "      layers.Dense(4, activation=\"relu\")])\n",
    "\n",
    "    self.decoder = tf.keras.Sequential([\n",
    "      layers.Dense(10, activation=\"relu\"),\n",
    "      layers.Dense(18, activation=\"relu\"),\n",
    "      layers.Dense(28, activation=\"sigmoid\")])\n",
    "\n",
    "  def call(self, x):\n",
    "    encoded = self.encoder(x)\n",
    "    decoded = self.decoder(encoded)\n",
    "    return decoded\n",
    "\n",
    "\n",
    "# Model 2 : Warstwy gęste\n",
    "class AnomalyDetector(Model):\n",
    "  def __init__(self):\n",
    "    super(AnomalyDetector, self).__init__()\n",
    "    self.encoder = tf.keras.Sequential([\n",
    "      layers.Dense(22, activation=\"relu\"),\n",
    "      layers.Dense(18, activation=\"relu\"),\n",
    "      layers.Dense(14, activation=\"relu\"),\n",
    "      ])\n",
    "\n",
    "    self.decoder = tf.keras.Sequential([\n",
    "      layers.Dense(18, activation=\"relu\"),\n",
    "      layers.Dense(22, activation=\"relu\"),\n",
    "      layers.Dense(28, activation=\"sigmoid\")])\n",
    "\n",
    "  def call(self, x):\n",
    "    encoded = self.encoder(x)\n",
    "    decoded = self.decoder(encoded)\n",
    "    return decoded\n",
    "\n",
    "\n",
    "# Model 3 : Warstwy gęste\n",
    "class AnomalyDetector(Model):\n",
    "  def __init__(self):\n",
    "    super(AnomalyDetector, self).__init__()\n",
    "    self.encoder = tf.keras.Sequential([\n",
    "      layers.Dense(128, activation=\"relu\", input_shape = (28,)),\n",
    "      layers.Dense(64, activation=\"relu\"),\n",
    "      layers.Dense(16, activation=\"relu\"),\n",
    "      layers.Dense(12, activation=\"relu\")])\n",
    "\n",
    "    self.decoder = tf.keras.Sequential([\n",
    "      layers.Dense(16, activation=\"relu\"),\n",
    "      layers.Dense(64, activation=\"relu\"),\n",
    "      layers.Dense(128, activation=\"relu\"),\n",
    "      layers.Dense(28, activation=\"sigmoid\")])\n",
    "\n",
    "  def call(self, x):\n",
    "    encoded = self.encoder(x)\n",
    "    decoded = self.decoder(encoded)\n",
    "    return decoded\n",
    "\n",
    "\n",
    "# Model 4 : Warstwy splotowe\n",
    "class AnomalyDetector(Model):\n",
    "  def __init__(self):\n",
    "    super(AnomalyDetector, self).__init__()\n",
    "    self.encoder = tf.keras.Sequential([\n",
    "        layers.Conv1D(14, 3, activation=\"relu\", input_shape = (28,1)),\n",
    "        layers.Dropout(0.2),\n",
    "        layers.Conv1D(8, 5, activation=\"relu\"),\n",
    "        layers.Dropout(0.3),\n",
    "        layers.Conv1D(4, 8, activation=\"relu\"),\n",
    "        layers.Dropout(0.2)\n",
    "        ])\n",
    "\n",
    "    self.decoder = tf.keras.Sequential([\n",
    "      layers.Conv1DTranspose(8, 8, activation=\"relu\"),\n",
    "      layers.Dropout(0.2),\n",
    "      layers.Conv1DTranspose(14, 5, activation=\"relu\"),\n",
    "      layers.Dropout(0.3),\n",
    "      layers.Conv1DTranspose(1, 3, activation=\"relu\"),\n",
    "      layers.Dropout(0.2),\n",
    "      layers.Flatten()\n",
    "      ])\n",
    "\n",
    "  def call(self, x):\n",
    "    encoded = self.encoder(x)\n",
    "    decoded = self.decoder(encoded)\n",
    "    return decoded\n",
    "\n",
    "\n",
    "# Model 5 : Warstwy splotowe\n",
    "class AnomalyDetector(Model):\n",
    "  def __init__(self):\n",
    "    super(AnomalyDetector, self).__init__()\n",
    "    self.encoder = tf.keras.Sequential([\n",
    "        layers.Conv1D(24, 4, activation=\"relu\", input_shape = (28,1)),\n",
    "        layers.Dropout(0.2),\n",
    "        layers.Conv1D(18, 3, activation=\"relu\"),\n",
    "        layers.Dropout(0.2),\n",
    "        layers.Conv1D(12, 2, activation=\"relu\"),\n",
    "        layers.Dropout(0.2)\n",
    "        ])\n",
    "\n",
    "    self.decoder = tf.keras.Sequential([\n",
    "      layers.Conv1DTranspose(12, 3, activation=\"relu\"),\n",
    "      layers.Dropout(0.2),\n",
    "      layers.Conv1DTranspose(18, 3, activation=\"relu\"),\n",
    "      layers.Dropout(0.2),\n",
    "      layers.Conv1DTranspose(1, 3, activation=\"sigmoid\"),\n",
    "      layers.Dropout(0.2),\n",
    "      layers.Flatten()\n",
    "      ])\n",
    "\n",
    "  def call(self, x):\n",
    "    encoded = self.encoder(x)\n",
    "    decoded = self.decoder(encoded)\n",
    "    return decoded\n",
    "\n",
    "\n",
    "# Model 4 : Warstwy mieszane\n",
    "class AnomalyDetector(Model):\n",
    "  def __init__(self):\n",
    "    super(AnomalyDetector, self).__init__()\n",
    "    self.encoder = tf.keras.Sequential([\n",
    "      layers.Input(shape=(28,)),\n",
    "      layers.Dense(20, activation=\"relu\"),\n",
    "      layers.Dropout(0.2),\n",
    "      layers.Dense(14, activation=\"relu\"),\n",
    "      layers.Dropout(0.2),\n",
    "      layers.Reshape((14,1)),\n",
    "      layers.Conv1D(10, 3, activation=\"relu\"),\n",
    "      layers.Dropout(0.2),\n",
    "      layers.Conv1D(4, 3, activation=\"relu\"),\n",
    "      layers.Dropout(0.2),\n",
    "      ])\n",
    "\n",
    "    self.decoder = tf.keras.Sequential([\n",
    "      layers.Conv1DTranspose(10, 3, activation=\"relu\"),\n",
    "      layers.Dropout(0.2),\n",
    "      layers.Conv1DTranspose(14, 3, activation=\"relu\"),\n",
    "      layers.Dropout(0.2),\n",
    "      layers.Flatten(),\n",
    "      layers.Dense(52, activation=\"relu\"),\n",
    "      layers.Dense(28, activation=\"sigmoid\")])\n",
    "\n",
    "  def call(self, x):\n",
    "    encoded = self.encoder(x)\n",
    "    decoded = self.decoder(encoded)\n",
    "    return decoded"
   ]
  }
 ],
 "metadata": {
  "kernelspec": {
   "display_name": "venv",
   "language": "python",
   "name": "python3"
  },
  "language_info": {
   "codemirror_mode": {
    "name": "ipython",
    "version": 3
   },
   "file_extension": ".py",
   "mimetype": "text/x-python",
   "name": "python",
   "nbconvert_exporter": "python",
   "pygments_lexer": "ipython3",
   "version": "3.10.6"
  },
  "orig_nbformat": 4,
  "vscode": {
   "interpreter": {
    "hash": "747806717ae66284f866d950ba6747b3bb0832bfe3f2f33fcef5aea153ce6df5"
   }
  }
 },
 "nbformat": 4,
 "nbformat_minor": 2
}
